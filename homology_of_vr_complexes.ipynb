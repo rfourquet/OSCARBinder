{
 "cells": [
  {
   "cell_type": "markdown",
   "metadata": {},
   "source": [
    "In this notebook we will demonstrate how Polymake can be used to compute a Vietoris Rips complex and its homology on a random two dimensional point cloud. To read up on these concepts we suggest to take a look at: [Computational Topology: An Introduction](https://www.researchgate.net/publication/220692408_Computational_Topology_An_Introduction) by Herbert Edelsbrunner and John Harer. \n",
    "\n",
    "We will begin by checking on our system by calling `versioninfo()`. We can see the version of our Julia Kernel and some system specs."
   ]
  },
  {
   "cell_type": "code",
   "execution_count": 6,
   "metadata": {},
   "outputs": [
    {
     "name": "stdout",
     "output_type": "stream",
     "text": [
      "Julia Version 1.4.0\n",
      "Commit b8e9a9ecc6 (2020-03-21 16:36 UTC)\n",
      "Platform Info:\n",
      "  OS: Linux (x86_64-pc-linux-gnu)\n",
      "  CPU: Intel(R) Core(TM) i7-3770 CPU @ 3.40GHz\n",
      "  WORD_SIZE: 64\n",
      "  LIBM: libopenlibm\n",
      "  LLVM: libLLVM-8.0.1 (ORCJIT, ivybridge)\n"
     ]
    }
   ],
   "source": [
    "versioninfo()"
   ]
  },
  {
   "cell_type": "markdown",
   "metadata": {},
   "source": [
    "Then we check the status of our package manager and tell Julia which packages to use."
   ]
  },
  {
   "cell_type": "code",
   "execution_count": 1,
   "metadata": {
    "scrolled": false
   },
   "outputs": [
    {
     "name": "stdout",
     "output_type": "stream",
     "text": [
      "\u001b[32m\u001b[1mStatus\u001b[22m\u001b[39m `~/.julia/environments/v1.4/Project.toml`\n",
      " \u001b[90m [1f15a43c]\u001b[39m\u001b[37m CxxWrap v0.9.1\u001b[39m\n",
      " \u001b[90m [b4f34e82]\u001b[39m\u001b[37m Distances v0.8.2\u001b[39m\n",
      " \u001b[90m [7073ff75]\u001b[39m\u001b[37m IJulia v1.21.1\u001b[39m\n",
      " \u001b[90m [91a5bcdd]\u001b[39m\u001b[37m Plots v1.0.5\u001b[39m\n",
      " \u001b[90m [d720cf60]\u001b[39m\u001b[37m Polymake v0.4.1\u001b[39m\n",
      "polymake version 4.0\n",
      "Copyright (c) 1997-2020\n",
      "Ewgenij Gawrilow, Michael Joswig, and the polymake team\n",
      "Technische Universität Berlin, Germany\n",
      "https://polymake.org\n",
      "\n",
      "This is free software licensed under GPL; see the source for copying conditions.\n",
      "There is NO warranty; not even for MERCHANTABILITY or FITNESS FOR A PARTICULAR PURPOSE.\n",
      "\n"
     ]
    }
   ],
   "source": [
    "using Pkg\n",
    "Pkg.status()\n",
    "\n",
    "using Polymake\n",
    "using Plots \n",
    "using Distances"
   ]
  },
  {
   "cell_type": "markdown",
   "metadata": {},
   "source": [
    "With this our setup is complete. We will begin by generating a random set of points via some of Julia's basic functionality. Then we will plot these points using the \"Plots\" package."
   ]
  },
  {
   "cell_type": "code",
   "execution_count": 117,
   "metadata": {
    "scrolled": true
   },
   "outputs": [
    {
     "data": {
      "text/plain": [
       "16×2 Array{Float64,2}:\n",
       " 0.073776   0.861983\n",
       " 0.255749   0.216406\n",
       " 0.837399   0.18367\n",
       " 0.451908   0.482145\n",
       " 0.968421   0.898811\n",
       " 0.727573   0.698121\n",
       " 0.176284   0.384034\n",
       " 0.0737789  0.301895\n",
       " 0.824028   0.0618321\n",
       " 0.411746   0.139417\n",
       " 0.593904   0.453065\n",
       " 0.457076   0.854046\n",
       " 0.554123   0.0482456\n",
       " 0.434838   0.316422\n",
       " 0.899388   0.259067\n",
       " 0.0597716  0.516415"
      ]
     },
     "execution_count": 117,
     "metadata": {},
     "output_type": "execute_result"
    }
   ],
   "source": [
    "points = rand(Float64, (16,2))\n"
   ]
  },
  {
   "cell_type": "code",
   "execution_count": 118,
   "metadata": {},
   "outputs": [
    {
     "data": {
      "image/svg+xml": [
       "<?xml version=\"1.0\" encoding=\"utf-8\"?>\n",
       "<svg xmlns=\"http://www.w3.org/2000/svg\" xmlns:xlink=\"http://www.w3.org/1999/xlink\" width=\"600\" height=\"400\" viewBox=\"0 0 2400 1600\">\n",
       "<defs>\n",
       "  <clipPath id=\"clip1900\">\n",
       "    <rect x=\"0\" y=\"0\" width=\"2400\" height=\"1600\"/>\n",
       "  </clipPath>\n",
       "</defs>\n",
       "<path clip-path=\"url(#clip1900)\" d=\"\n",
       "M0 1600 L2400 1600 L2400 0 L0 0  Z\n",
       "  \" fill=\"#ffffff\" fill-rule=\"evenodd\" fill-opacity=\"1\"/>\n",
       "<defs>\n",
       "  <clipPath id=\"clip1901\">\n",
       "    <rect x=\"480\" y=\"0\" width=\"1681\" height=\"1600\"/>\n",
       "  </clipPath>\n",
       "</defs>\n",
       "<path clip-path=\"url(#clip1900)\" d=\"\n",
       "M215.754 1425.62 L2352.76 1425.62 L2352.76 47.2441 L215.754 47.2441  Z\n",
       "  \" fill=\"#ffffff\" fill-rule=\"evenodd\" fill-opacity=\"1\"/>\n",
       "<defs>\n",
       "  <clipPath id=\"clip1902\">\n",
       "    <rect x=\"215\" y=\"47\" width=\"2138\" height=\"1379\"/>\n",
       "  </clipPath>\n",
       "</defs>\n",
       "<polyline clip-path=\"url(#clip1902)\" style=\"stroke:#000000; stroke-width:2; stroke-opacity:0.1; fill:none\" points=\"\n",
       "  498.299,1425.62 498.299,47.2441 \n",
       "  \"/>\n",
       "<polyline clip-path=\"url(#clip1902)\" style=\"stroke:#000000; stroke-width:2; stroke-opacity:0.1; fill:none\" points=\"\n",
       "  880.502,1425.62 880.502,47.2441 \n",
       "  \"/>\n",
       "<polyline clip-path=\"url(#clip1902)\" style=\"stroke:#000000; stroke-width:2; stroke-opacity:0.1; fill:none\" points=\"\n",
       "  1262.7,1425.62 1262.7,47.2441 \n",
       "  \"/>\n",
       "<polyline clip-path=\"url(#clip1902)\" style=\"stroke:#000000; stroke-width:2; stroke-opacity:0.1; fill:none\" points=\"\n",
       "  1644.91,1425.62 1644.91,47.2441 \n",
       "  \"/>\n",
       "<polyline clip-path=\"url(#clip1902)\" style=\"stroke:#000000; stroke-width:2; stroke-opacity:0.1; fill:none\" points=\"\n",
       "  2027.11,1425.62 2027.11,47.2441 \n",
       "  \"/>\n",
       "<polyline clip-path=\"url(#clip1902)\" style=\"stroke:#000000; stroke-width:2; stroke-opacity:0.1; fill:none\" points=\"\n",
       "  215.754,1154.6 2352.76,1154.6 \n",
       "  \"/>\n",
       "<polyline clip-path=\"url(#clip1902)\" style=\"stroke:#000000; stroke-width:2; stroke-opacity:0.1; fill:none\" points=\"\n",
       "  215.754,848.842 2352.76,848.842 \n",
       "  \"/>\n",
       "<polyline clip-path=\"url(#clip1902)\" style=\"stroke:#000000; stroke-width:2; stroke-opacity:0.1; fill:none\" points=\"\n",
       "  215.754,543.08 2352.76,543.08 \n",
       "  \"/>\n",
       "<polyline clip-path=\"url(#clip1902)\" style=\"stroke:#000000; stroke-width:2; stroke-opacity:0.1; fill:none\" points=\"\n",
       "  215.754,237.318 2352.76,237.318 \n",
       "  \"/>\n",
       "<polyline clip-path=\"url(#clip1900)\" style=\"stroke:#000000; stroke-width:4; stroke-opacity:1; fill:none\" points=\"\n",
       "  215.754,1425.62 2352.76,1425.62 \n",
       "  \"/>\n",
       "<polyline clip-path=\"url(#clip1900)\" style=\"stroke:#000000; stroke-width:4; stroke-opacity:1; fill:none\" points=\"\n",
       "  215.754,1425.62 215.754,47.2441 \n",
       "  \"/>\n",
       "<polyline clip-path=\"url(#clip1900)\" style=\"stroke:#000000; stroke-width:4; stroke-opacity:1; fill:none\" points=\"\n",
       "  498.299,1425.62 498.299,1409.08 \n",
       "  \"/>\n",
       "<polyline clip-path=\"url(#clip1900)\" style=\"stroke:#000000; stroke-width:4; stroke-opacity:1; fill:none\" points=\"\n",
       "  880.502,1425.62 880.502,1409.08 \n",
       "  \"/>\n",
       "<polyline clip-path=\"url(#clip1900)\" style=\"stroke:#000000; stroke-width:4; stroke-opacity:1; fill:none\" points=\"\n",
       "  1262.7,1425.62 1262.7,1409.08 \n",
       "  \"/>\n",
       "<polyline clip-path=\"url(#clip1900)\" style=\"stroke:#000000; stroke-width:4; stroke-opacity:1; fill:none\" points=\"\n",
       "  1644.91,1425.62 1644.91,1409.08 \n",
       "  \"/>\n",
       "<polyline clip-path=\"url(#clip1900)\" style=\"stroke:#000000; stroke-width:4; stroke-opacity:1; fill:none\" points=\"\n",
       "  2027.11,1425.62 2027.11,1409.08 \n",
       "  \"/>\n",
       "<polyline clip-path=\"url(#clip1900)\" style=\"stroke:#000000; stroke-width:4; stroke-opacity:1; fill:none\" points=\"\n",
       "  215.754,1154.6 241.398,1154.6 \n",
       "  \"/>\n",
       "<polyline clip-path=\"url(#clip1900)\" style=\"stroke:#000000; stroke-width:4; stroke-opacity:1; fill:none\" points=\"\n",
       "  215.754,848.842 241.398,848.842 \n",
       "  \"/>\n",
       "<polyline clip-path=\"url(#clip1900)\" style=\"stroke:#000000; stroke-width:4; stroke-opacity:1; fill:none\" points=\"\n",
       "  215.754,543.08 241.398,543.08 \n",
       "  \"/>\n",
       "<polyline clip-path=\"url(#clip1900)\" style=\"stroke:#000000; stroke-width:4; stroke-opacity:1; fill:none\" points=\"\n",
       "  215.754,237.318 241.398,237.318 \n",
       "  \"/>\n",
       "<g clip-path=\"url(#clip1900)\">\n",
       "<text style=\"fill:#000000; fill-opacity:1; font-family:Arial,Helvetica Neue,Helvetica,sans-serif; font-size:48px; text-anchor:middle;\" transform=\"rotate(0, 498.299, 1479.62)\" x=\"498.299\" y=\"1479.62\">0.00</text>\n",
       "</g>\n",
       "<g clip-path=\"url(#clip1900)\">\n",
       "<text style=\"fill:#000000; fill-opacity:1; font-family:Arial,Helvetica Neue,Helvetica,sans-serif; font-size:48px; text-anchor:middle;\" transform=\"rotate(0, 880.502, 1479.62)\" x=\"880.502\" y=\"1479.62\">0.25</text>\n",
       "</g>\n",
       "<g clip-path=\"url(#clip1900)\">\n",
       "<text style=\"fill:#000000; fill-opacity:1; font-family:Arial,Helvetica Neue,Helvetica,sans-serif; font-size:48px; text-anchor:middle;\" transform=\"rotate(0, 1262.7, 1479.62)\" x=\"1262.7\" y=\"1479.62\">0.50</text>\n",
       "</g>\n",
       "<g clip-path=\"url(#clip1900)\">\n",
       "<text style=\"fill:#000000; fill-opacity:1; font-family:Arial,Helvetica Neue,Helvetica,sans-serif; font-size:48px; text-anchor:middle;\" transform=\"rotate(0, 1644.91, 1479.62)\" x=\"1644.91\" y=\"1479.62\">0.75</text>\n",
       "</g>\n",
       "<g clip-path=\"url(#clip1900)\">\n",
       "<text style=\"fill:#000000; fill-opacity:1; font-family:Arial,Helvetica Neue,Helvetica,sans-serif; font-size:48px; text-anchor:middle;\" transform=\"rotate(0, 2027.11, 1479.62)\" x=\"2027.11\" y=\"1479.62\">1.00</text>\n",
       "</g>\n",
       "<g clip-path=\"url(#clip1900)\">\n",
       "<text style=\"fill:#000000; fill-opacity:1; font-family:Arial,Helvetica Neue,Helvetica,sans-serif; font-size:48px; text-anchor:end;\" transform=\"rotate(0, 191.754, 1172.1)\" x=\"191.754\" y=\"1172.1\">0.2</text>\n",
       "</g>\n",
       "<g clip-path=\"url(#clip1900)\">\n",
       "<text style=\"fill:#000000; fill-opacity:1; font-family:Arial,Helvetica Neue,Helvetica,sans-serif; font-size:48px; text-anchor:end;\" transform=\"rotate(0, 191.754, 866.342)\" x=\"191.754\" y=\"866.342\">0.4</text>\n",
       "</g>\n",
       "<g clip-path=\"url(#clip1900)\">\n",
       "<text style=\"fill:#000000; fill-opacity:1; font-family:Arial,Helvetica Neue,Helvetica,sans-serif; font-size:48px; text-anchor:end;\" transform=\"rotate(0, 191.754, 560.58)\" x=\"191.754\" y=\"560.58\">0.6</text>\n",
       "</g>\n",
       "<g clip-path=\"url(#clip1900)\">\n",
       "<text style=\"fill:#000000; fill-opacity:1; font-family:Arial,Helvetica Neue,Helvetica,sans-serif; font-size:48px; text-anchor:end;\" transform=\"rotate(0, 191.754, 254.818)\" x=\"191.754\" y=\"254.818\">0.8</text>\n",
       "</g>\n",
       "<g clip-path=\"url(#clip1900)\">\n",
       "<text style=\"fill:#000000; fill-opacity:1; font-family:Arial,Helvetica Neue,Helvetica,sans-serif; font-size:66px; text-anchor:middle;\" transform=\"rotate(0, 1284.25, 1559.48)\" x=\"1284.25\" y=\"1559.48\">x-coordinate</text>\n",
       "</g>\n",
       "<g clip-path=\"url(#clip1900)\">\n",
       "<text style=\"fill:#000000; fill-opacity:1; font-family:Arial,Helvetica Neue,Helvetica,sans-serif; font-size:66px; text-anchor:middle;\" transform=\"rotate(-90, 89.2861, 736.431)\" x=\"89.2861\" y=\"736.431\">y-coordinate</text>\n",
       "</g>\n",
       "<circle clip-path=\"url(#clip1902)\" cx=\"611.089\" cy=\"142.558\" r=\"14\" fill=\"#009af9\" fill-rule=\"evenodd\" fill-opacity=\"1\" stroke=\"#000000\" stroke-opacity=\"1\" stroke-width=\"3.2\"/>\n",
       "<circle clip-path=\"url(#clip1902)\" cx=\"889.291\" cy=\"1129.52\" r=\"14\" fill=\"#009af9\" fill-rule=\"evenodd\" fill-opacity=\"1\" stroke=\"#000000\" stroke-opacity=\"1\" stroke-width=\"3.2\"/>\n",
       "<circle clip-path=\"url(#clip1902)\" cx=\"1778.52\" cy=\"1179.57\" r=\"14\" fill=\"#009af9\" fill-rule=\"evenodd\" fill-opacity=\"1\" stroke=\"#000000\" stroke-opacity=\"1\" stroke-width=\"3.2\"/>\n",
       "<circle clip-path=\"url(#clip1902)\" cx=\"1189.18\" cy=\"723.258\" r=\"14\" fill=\"#009af9\" fill-rule=\"evenodd\" fill-opacity=\"1\" stroke=\"#000000\" stroke-opacity=\"1\" stroke-width=\"3.2\"/>\n",
       "<circle clip-path=\"url(#clip1902)\" cx=\"1978.83\" cy=\"86.2547\" r=\"14\" fill=\"#009af9\" fill-rule=\"evenodd\" fill-opacity=\"1\" stroke=\"#000000\" stroke-opacity=\"1\" stroke-width=\"3.2\"/>\n",
       "<circle clip-path=\"url(#clip1902)\" cx=\"1610.62\" cy=\"393.071\" r=\"14\" fill=\"#009af9\" fill-rule=\"evenodd\" fill-opacity=\"1\" stroke=\"#000000\" stroke-opacity=\"1\" stroke-width=\"3.2\"/>\n",
       "<circle clip-path=\"url(#clip1902)\" cx=\"767.804\" cy=\"873.252\" r=\"14\" fill=\"#009af9\" fill-rule=\"evenodd\" fill-opacity=\"1\" stroke=\"#000000\" stroke-opacity=\"1\" stroke-width=\"3.2\"/>\n",
       "<circle clip-path=\"url(#clip1902)\" cx=\"611.093\" cy=\"998.826\" r=\"14\" fill=\"#009af9\" fill-rule=\"evenodd\" fill-opacity=\"1\" stroke=\"#000000\" stroke-opacity=\"1\" stroke-width=\"3.2\"/>\n",
       "<circle clip-path=\"url(#clip1902)\" cx=\"1758.08\" cy=\"1365.84\" r=\"14\" fill=\"#009af9\" fill-rule=\"evenodd\" fill-opacity=\"1\" stroke=\"#000000\" stroke-opacity=\"1\" stroke-width=\"3.2\"/>\n",
       "<circle clip-path=\"url(#clip1902)\" cx=\"1127.78\" cy=\"1247.22\" r=\"14\" fill=\"#009af9\" fill-rule=\"evenodd\" fill-opacity=\"1\" stroke=\"#000000\" stroke-opacity=\"1\" stroke-width=\"3.2\"/>\n",
       "<circle clip-path=\"url(#clip1902)\" cx=\"1406.27\" cy=\"767.717\" r=\"14\" fill=\"#009af9\" fill-rule=\"evenodd\" fill-opacity=\"1\" stroke=\"#000000\" stroke-opacity=\"1\" stroke-width=\"3.2\"/>\n",
       "<circle clip-path=\"url(#clip1902)\" cx=\"1197.08\" cy=\"154.692\" r=\"14\" fill=\"#009af9\" fill-rule=\"evenodd\" fill-opacity=\"1\" stroke=\"#000000\" stroke-opacity=\"1\" stroke-width=\"3.2\"/>\n",
       "<circle clip-path=\"url(#clip1902)\" cx=\"1345.45\" cy=\"1386.61\" r=\"14\" fill=\"#009af9\" fill-rule=\"evenodd\" fill-opacity=\"1\" stroke=\"#000000\" stroke-opacity=\"1\" stroke-width=\"3.2\"/>\n",
       "<circle clip-path=\"url(#clip1902)\" cx=\"1163.08\" cy=\"976.616\" r=\"14\" fill=\"#009af9\" fill-rule=\"evenodd\" fill-opacity=\"1\" stroke=\"#000000\" stroke-opacity=\"1\" stroke-width=\"3.2\"/>\n",
       "<circle clip-path=\"url(#clip1902)\" cx=\"1873.29\" cy=\"1064.3\" r=\"14\" fill=\"#009af9\" fill-rule=\"evenodd\" fill-opacity=\"1\" stroke=\"#000000\" stroke-opacity=\"1\" stroke-width=\"3.2\"/>\n",
       "<circle clip-path=\"url(#clip1902)\" cx=\"589.679\" cy=\"670.865\" r=\"14\" fill=\"#009af9\" fill-rule=\"evenodd\" fill-opacity=\"1\" stroke=\"#000000\" stroke-opacity=\"1\" stroke-width=\"3.2\"/>\n",
       "</svg>\n"
      ]
     },
     "execution_count": 118,
     "metadata": {},
     "output_type": "execute_result"
    }
   ],
   "source": [
    "scatter(points[:,1],points[:,2],xlabel=\"x-coordinate\",ylabel=\"y-coordinate\",legend=false,aspect_ratio =:equal)"
   ]
  },
  {
   "cell_type": "markdown",
   "metadata": {},
   "source": [
    "Polymake requires a distance matrix to compute the Vietoris rips complex. Here we use the \"Distances\" package to compute a $n \times n$ matrix of pairwise distances, where $n$ is the number of points. \n",
    "We can specify which metric we want to use and choose the Euclidean metric. \n",
    "\n",
    "Setting `dims = 1` specifies that we want the pairwise distances of the rows of our matrix `points`."
   ]
  },
  {
   "cell_type": "code",
   "execution_count": 119,
   "metadata": {},
   "outputs": [
    {
     "data": {
      "text/plain": [
       "16×16 Array{Float64,2}:\n",
       " 0.0       0.670734  1.02139   0.535967  …  0.654219  1.02232   0.345851\n",
       " 0.670734  0.0       0.582571  0.330297     0.205125  0.645052  0.358347\n",
       " 1.02139   0.582571  0.0       0.487535     0.423885  0.097608  0.845827\n",
       " 0.535967  0.330297  0.487535  0.0          0.1666    0.500002  0.393631\n",
       " 0.895403  0.986701  0.727044  0.663623     0.789865  0.643458  0.985835\n",
       " 0.674019  0.674291  0.526043  0.350196  …  0.481028  0.471475  0.692081\n",
       " 0.488818  0.185509  0.69081   0.292566     0.267248  0.733823  0.176352\n",
       " 0.560088  0.201051  0.772717  0.418894     0.361351  0.826719  0.214977\n",
       " 1.09687   0.588927  0.12257   0.56137      0.465065  0.211141  0.889232\n",
       " 0.7977    0.173961  0.427947  0.345074     0.178506  0.502107  0.515765\n",
       " 0.661625  0.412742  0.36313   0.144943  …  0.209697  0.361878  0.537876\n",
       " 0.383383  0.668668  0.770745  0.371937     0.538083  0.741377  0.521388\n",
       " 0.944935  0.342499  0.313982  0.445777     0.29351   0.404541  0.680857\n",
       " 0.654219  0.205125  0.423885  0.1666       0.0       0.468078  0.425055\n",
       " 1.02232   0.645052  0.097608  0.500002     0.468078  0.0       0.878171\n",
       " 0.345851  0.358347  0.845827  0.393631  …  0.425055  0.878171  0.0"
      ]
     },
     "execution_count": 119,
     "metadata": {},
     "output_type": "execute_result"
    }
   ],
   "source": [
    "distances = Distances.pairwise(Distances.Euclidean(),points,dims = 1)"
   ]
  },
  {
   "cell_type": "markdown",
   "metadata": {},
   "source": [
    "Now we can use Polymake's topaz library to generate the VR complex from our distance matrix. We also have to pass a float, indicating the maximum pairwise distance of vertices, such that they become a face of our abstract simplicial complex. \n",
    "Depending on our point set and the value we choose here, we get a higher or lower dimensional abstract simplicial complex. Note that if we'd choose a value of $1$ the generated abstract simplicial complex would contain all faces of the $n-$simplex."
   ]
  },
  {
   "cell_type": "code",
   "execution_count": 130,
   "metadata": {},
   "outputs": [
    {
     "data": {
      "text/plain": [
       "pm::Array<pm::Set<long, pm::operations::cmp>>\n",
       "{0}\n",
       "{1 6 7}\n",
       "{1 6 13}\n",
       "{1 9 13}\n",
       "{2 8 12}\n",
       "{2 8 14}\n",
       "{3 6 13}\n",
       "{3 10 13}\n",
       "{4 5}\n",
       "{5 10}\n",
       "{5 11}\n",
       "{6 7 15}\n",
       "{9 12 13}\n"
      ]
     },
     "execution_count": 130,
     "metadata": {},
     "output_type": "execute_result"
    }
   ],
   "source": [
    "vr = topaz.vietoris_rips_complex(distances, 0.33)\n",
    "vr.FACETS"
   ]
  },
  {
   "cell_type": "markdown",
   "metadata": {},
   "source": [
    "Above we can see the facets, encoded by sets of labeled vertices. Below we see a \n",
    "visualization of the VR complex provided by Polymake."
   ]
  },
  {
   "cell_type": "code",
   "execution_count": 150,
   "metadata": {
    "scrolled": true
   },
   "outputs": [
    {
     "data": {
      "image/svg+xml": [
       "<?xml version=\"1.0\" encoding=\"UTF-8\" standalone=\"yes\"?>\n",
       "<!DOCTYPE svg PUBLIC \"-//W3C//DTD SVG 1.0//EN\" \"http://www.w3.org/TR/2001/REC-SVG-20010904/DTD/svg10.dtd\">\n",
       "<svg height=\"841pt\" id=\"document\" viewBox=\"0 -612.198021694089 582 612.198021694089\" width=\"595pt\" xmlns=\"http://www.w3.org/2000/svg\" xmlns:svg=\"http://www.w3.org/2000/svg\" xmlns:xlink=\"http://www.w3.org/1999/xlink\">\n",
       "\t<title id=\"document_title\">GRAPH of </title>\n",
       "\t<line stroke=\"rgb(0,0,0)\" stroke-width=\"1\" x1=\"439.72508733379\" x2=\"341.045402935369\" y1=\"-481.89373102782\" y2=\"-575.698021694089\" />\n",
       "\t<line stroke=\"rgb(0,0,0)\" stroke-width=\"1\" x1=\"160.986654740871\" x2=\"200.116511719075\" y1=\"-202.528568617136\" y2=\"-103.694490711437\" />\n",
       "\t<line stroke=\"rgb(0,0,0)\" stroke-width=\"1\" x1=\"160.986654740871\" x2=\"304.386788297826\" y1=\"-202.528568617136\" y2=\"-233.362609894375\" />\n",
       "\t<line stroke=\"rgb(0,0,0)\" stroke-width=\"1\" x1=\"72.7555700718257\" x2=\"200.116511719075\" y1=\"-194.780582156889\" y2=\"-103.694490711437\" />\n",
       "\t<line stroke=\"rgb(0,0,0)\" stroke-width=\"1\" x1=\"72.7555700718257\" x2=\"160.986654740871\" y1=\"-194.780582156889\" y2=\"-202.528568617136\" />\n",
       "\t<line stroke=\"rgb(0,0,0)\" stroke-width=\"1\" x1=\"447.839436502163\" x2=\"490.344829104665\" y1=\"-201.940573865686\" y2=\"-211.413253997271\" />\n",
       "\t<line stroke=\"rgb(0,0,0)\" stroke-width=\"1\" x1=\"340.5044282265\" x2=\"200.116511719075\" y1=\"-53.5\" y2=\"-103.694490711437\" />\n",
       "\t<line stroke=\"rgb(0,0,0)\" stroke-width=\"1\" x1=\"395.136497878627\" x2=\"304.386788297826\" y1=\"-308.864050464778\" y2=\"-233.362609894375\" />\n",
       "\t<line stroke=\"rgb(0,0,0)\" stroke-width=\"1\" x1=\"395.136497878627\" x2=\"439.72508733379\" y1=\"-308.864050464778\" y2=\"-481.89373102782\" />\n",
       "\t<line stroke=\"rgb(0,0,0)\" stroke-width=\"1\" x1=\"556.5\" x2=\"439.72508733379\" y1=\"-489.236563219009\" y2=\"-481.89373102782\" />\n",
       "\t<line stroke=\"rgb(0,0,0)\" stroke-width=\"1\" x1=\"426.034102475277\" x2=\"490.344829104665\" y1=\"-128.067374973452\" y2=\"-211.413253997271\" />\n",
       "\t<line stroke=\"rgb(0,0,0)\" stroke-width=\"1\" x1=\"426.034102475277\" x2=\"447.839436502163\" y1=\"-128.067374973452\" y2=\"-201.940573865686\" />\n",
       "\t<line stroke=\"rgb(0,0,0)\" stroke-width=\"1\" x1=\"426.034102475277\" x2=\"340.5044282265\" y1=\"-128.067374973452\" y2=\"-53.5\" />\n",
       "\t<line stroke=\"rgb(0,0,0)\" stroke-width=\"1\" x1=\"323.033344751903\" x2=\"200.116511719075\" y1=\"-157.139929896197\" y2=\"-103.694490711437\" />\n",
       "\t<line stroke=\"rgb(0,0,0)\" stroke-width=\"1\" x1=\"323.033344751903\" x2=\"304.386788297826\" y1=\"-157.139929896197\" y2=\"-233.362609894375\" />\n",
       "\t<line stroke=\"rgb(0,0,0)\" stroke-width=\"1\" x1=\"323.033344751903\" x2=\"160.986654740871\" y1=\"-157.139929896197\" y2=\"-202.528568617136\" />\n",
       "\t<line stroke=\"rgb(0,0,0)\" stroke-width=\"1\" x1=\"323.033344751903\" x2=\"340.5044282265\" y1=\"-157.139929896197\" y2=\"-53.5\" />\n",
       "\t<line stroke=\"rgb(0,0,0)\" stroke-width=\"1\" x1=\"323.033344751903\" x2=\"395.136497878627\" y1=\"-157.139929896197\" y2=\"-308.864050464778\" />\n",
       "\t<line stroke=\"rgb(0,0,0)\" stroke-width=\"1\" x1=\"323.033344751903\" x2=\"426.034102475277\" y1=\"-157.139929896197\" y2=\"-128.067374973452\" />\n",
       "\t<line stroke=\"rgb(0,0,0)\" stroke-width=\"1\" x1=\"471.637204094399\" x2=\"490.344829104665\" y1=\"-280.882626336447\" y2=\"-211.413253997271\" />\n",
       "\t<line stroke=\"rgb(0,0,0)\" stroke-width=\"1\" x1=\"471.637204094399\" x2=\"447.839436502163\" y1=\"-280.882626336447\" y2=\"-201.940573865686\" />\n",
       "\t<line stroke=\"rgb(0,0,0)\" stroke-width=\"1\" x1=\"38.5\" x2=\"160.986654740871\" y1=\"-279.963601634928\" y2=\"-202.528568617136\" />\n",
       "\t<line stroke=\"rgb(0,0,0)\" stroke-width=\"1\" x1=\"38.5\" x2=\"72.7555700718257\" y1=\"-279.963601634928\" y2=\"-194.780582156889\" />\n",
       "\t<circle cx=\"175.154896174264\" cy=\"-495.832692151546\" r=\"2\" style=\"fill: rgb(0,0,0)\" />\n",
       "\t<text font-family=\"Times-Roman\" font-size=\"10\" text-anchor=\"middle\" x=\"175.154896174264\" y=\"-500.832692151546\">0</text>\n",
       "\t<circle cx=\"200.116511719075\" cy=\"-103.694490711437\" r=\"2\" style=\"fill: rgb(0,0,0)\" />\n",
       "\t<text font-family=\"Times-Roman\" font-size=\"10\" text-anchor=\"middle\" x=\"200.116511719075\" y=\"-108.694490711437\">1</text>\n",
       "\t<circle cx=\"490.344829104665\" cy=\"-211.413253997271\" r=\"2\" style=\"fill: rgb(0,0,0)\" />\n",
       "\t<text font-family=\"Times-Roman\" font-size=\"10\" text-anchor=\"middle\" x=\"490.344829104665\" y=\"-216.413253997271\">2</text>\n",
       "\t<circle cx=\"304.386788297826\" cy=\"-233.362609894375\" r=\"2\" style=\"fill: rgb(0,0,0)\" />\n",
       "\t<text font-family=\"Times-Roman\" font-size=\"10\" text-anchor=\"middle\" x=\"304.386788297826\" y=\"-238.362609894375\">3</text>\n",
       "\t<circle cx=\"341.045402935369\" cy=\"-575.698021694089\" r=\"2\" style=\"fill: rgb(0,0,0)\" />\n",
       "\t<text font-family=\"Times-Roman\" font-size=\"10\" text-anchor=\"middle\" x=\"341.045402935369\" y=\"-580.698021694089\">4</text>\n",
       "\t<circle cx=\"439.72508733379\" cy=\"-481.89373102782\" r=\"2\" style=\"fill: rgb(0,0,0)\" />\n",
       "\t<text font-family=\"Times-Roman\" font-size=\"10\" text-anchor=\"middle\" x=\"439.72508733379\" y=\"-486.89373102782\">5</text>\n",
       "\t<circle cx=\"160.986654740871\" cy=\"-202.528568617136\" r=\"2\" style=\"fill: rgb(0,0,0)\" />\n",
       "\t<text font-family=\"Times-Roman\" font-size=\"10\" text-anchor=\"middle\" x=\"160.986654740871\" y=\"-207.528568617136\">6</text>\n",
       "\t<circle cx=\"72.7555700718257\" cy=\"-194.780582156889\" r=\"2\" style=\"fill: rgb(0,0,0)\" />\n",
       "\t<text font-family=\"Times-Roman\" font-size=\"10\" text-anchor=\"middle\" x=\"72.7555700718257\" y=\"-199.780582156889\">7</text>\n",
       "\t<circle cx=\"447.839436502163\" cy=\"-201.940573865686\" r=\"2\" style=\"fill: rgb(0,0,0)\" />\n",
       "\t<text font-family=\"Times-Roman\" font-size=\"10\" text-anchor=\"middle\" x=\"447.839436502163\" y=\"-206.940573865686\">8</text>\n",
       "\t<circle cx=\"340.5044282265\" cy=\"-53.5\" r=\"2\" style=\"fill: rgb(0,0,0)\" />\n",
       "\t<text font-family=\"Times-Roman\" font-size=\"10\" text-anchor=\"middle\" x=\"340.5044282265\" y=\"-58.5\">9</text>\n",
       "\t<circle cx=\"395.136497878627\" cy=\"-308.864050464778\" r=\"2\" style=\"fill: rgb(0,0,0)\" />\n",
       "\t<text font-family=\"Times-Roman\" font-size=\"10\" text-anchor=\"middle\" x=\"395.136497878627\" y=\"-313.864050464778\">10</text>\n",
       "\t<circle cx=\"556.5\" cy=\"-489.236563219009\" r=\"2\" style=\"fill: rgb(0,0,0)\" />\n",
       "\t<text font-family=\"Times-Roman\" font-size=\"10\" text-anchor=\"middle\" x=\"556.5\" y=\"-494.236563219009\">11</text>\n",
       "\t<circle cx=\"426.034102475277\" cy=\"-128.067374973452\" r=\"2\" style=\"fill: rgb(0,0,0)\" />\n",
       "\t<text font-family=\"Times-Roman\" font-size=\"10\" text-anchor=\"middle\" x=\"426.034102475277\" y=\"-133.067374973452\">12</text>\n",
       "\t<circle cx=\"323.033344751903\" cy=\"-157.139929896197\" r=\"2\" style=\"fill: rgb(0,0,0)\" />\n",
       "\t<text font-family=\"Times-Roman\" font-size=\"10\" text-anchor=\"middle\" x=\"323.033344751903\" y=\"-162.139929896197\">13</text>\n",
       "\t<circle cx=\"471.637204094399\" cy=\"-280.882626336447\" r=\"2\" style=\"fill: rgb(0,0,0)\" />\n",
       "\t<text font-family=\"Times-Roman\" font-size=\"10\" text-anchor=\"middle\" x=\"471.637204094399\" y=\"-285.882626336447\">14</text>\n",
       "\t<circle cx=\"38.5\" cy=\"-279.963601634928\" r=\"2\" style=\"fill: rgb(0,0,0)\" />\n",
       "\t<text font-family=\"Times-Roman\" font-size=\"10\" text-anchor=\"middle\" x=\"38.5\" y=\"-284.963601634928\">15</text>\n",
       "\t<circle cx=\"175.154896174264\" cy=\"-495.832692151546\" r=\"2\" style=\"fill: rgb(255,0,0)\" />\n",
       "\t<text font-family=\"Times-Roman\" font-size=\"10\" text-anchor=\"middle\" x=\"175.154896174264\" y=\"-500.832692151546\">0</text>\n",
       "\t<polygon points=\"200.116511719075,-103.694490711437 160.986654740871,-202.528568617136 72.7555700718257,-194.780582156889 \" style=\"fill: rgb(119,236,158); fill-opacity: 1; stroke: rgb(0,0,0); stroke-width: 1\" />\n",
       "\t<circle cx=\"200.116511719075\" cy=\"-103.694490711437\" r=\"2\" style=\"fill: rgb(255,0,0)\" />\n",
       "\t<text font-family=\"Times-Roman\" font-size=\"10\" text-anchor=\"middle\" x=\"200.116511719075\" y=\"-108.694490711437\">1</text>\n",
       "\t<circle cx=\"160.986654740871\" cy=\"-202.528568617136\" r=\"2\" style=\"fill: rgb(255,0,0)\" />\n",
       "\t<text font-family=\"Times-Roman\" font-size=\"10\" text-anchor=\"middle\" x=\"160.986654740871\" y=\"-207.528568617136\">6</text>\n",
       "\t<circle cx=\"72.7555700718257\" cy=\"-194.780582156889\" r=\"2\" style=\"fill: rgb(255,0,0)\" />\n",
       "\t<text font-family=\"Times-Roman\" font-size=\"10\" text-anchor=\"middle\" x=\"72.7555700718257\" y=\"-199.780582156889\">7</text>\n",
       "\t<polygon points=\"200.116511719075,-103.694490711437 160.986654740871,-202.528568617136 323.033344751903,-157.139929896197 \" style=\"fill: rgb(119,236,158); fill-opacity: 1; stroke: rgb(0,0,0); stroke-width: 1\" />\n",
       "\t<circle cx=\"200.116511719075\" cy=\"-103.694490711437\" r=\"2\" style=\"fill: rgb(255,0,0)\" />\n",
       "\t<text font-family=\"Times-Roman\" font-size=\"10\" text-anchor=\"middle\" x=\"200.116511719075\" y=\"-108.694490711437\">1</text>\n",
       "\t<circle cx=\"160.986654740871\" cy=\"-202.528568617136\" r=\"2\" style=\"fill: rgb(255,0,0)\" />\n",
       "\t<text font-family=\"Times-Roman\" font-size=\"10\" text-anchor=\"middle\" x=\"160.986654740871\" y=\"-207.528568617136\">6</text>\n",
       "\t<circle cx=\"323.033344751903\" cy=\"-157.139929896197\" r=\"2\" style=\"fill: rgb(255,0,0)\" />\n",
       "\t<text font-family=\"Times-Roman\" font-size=\"10\" text-anchor=\"middle\" x=\"323.033344751903\" y=\"-162.139929896197\">13</text>\n",
       "\t<polygon points=\"200.116511719075,-103.694490711437 340.5044282265,-53.5 323.033344751903,-157.139929896197 \" style=\"fill: rgb(119,236,158); fill-opacity: 1; stroke: rgb(0,0,0); stroke-width: 1\" />\n",
       "\t<circle cx=\"200.116511719075\" cy=\"-103.694490711437\" r=\"2\" style=\"fill: rgb(255,0,0)\" />\n",
       "\t<text font-family=\"Times-Roman\" font-size=\"10\" text-anchor=\"middle\" x=\"200.116511719075\" y=\"-108.694490711437\">1</text>\n",
       "\t<circle cx=\"340.5044282265\" cy=\"-53.5\" r=\"2\" style=\"fill: rgb(255,0,0)\" />\n",
       "\t<text font-family=\"Times-Roman\" font-size=\"10\" text-anchor=\"middle\" x=\"340.5044282265\" y=\"-58.5\">9</text>\n",
       "\t<circle cx=\"323.033344751903\" cy=\"-157.139929896197\" r=\"2\" style=\"fill: rgb(255,0,0)\" />\n",
       "\t<text font-family=\"Times-Roman\" font-size=\"10\" text-anchor=\"middle\" x=\"323.033344751903\" y=\"-162.139929896197\">13</text>\n",
       "\t<polygon points=\"490.344829104665,-211.413253997271 447.839436502163,-201.940573865686 426.034102475277,-128.067374973452 \" style=\"fill: rgb(119,236,158); fill-opacity: 1; stroke: rgb(0,0,0); stroke-width: 1\" />\n",
       "\t<circle cx=\"490.344829104665\" cy=\"-211.413253997271\" r=\"2\" style=\"fill: rgb(255,0,0)\" />\n",
       "\t<text font-family=\"Times-Roman\" font-size=\"10\" text-anchor=\"middle\" x=\"490.344829104665\" y=\"-216.413253997271\">2</text>\n",
       "\t<circle cx=\"447.839436502163\" cy=\"-201.940573865686\" r=\"2\" style=\"fill: rgb(255,0,0)\" />\n",
       "\t<text font-family=\"Times-Roman\" font-size=\"10\" text-anchor=\"middle\" x=\"447.839436502163\" y=\"-206.940573865686\">8</text>\n",
       "\t<circle cx=\"426.034102475277\" cy=\"-128.067374973452\" r=\"2\" style=\"fill: rgb(255,0,0)\" />\n",
       "\t<text font-family=\"Times-Roman\" font-size=\"10\" text-anchor=\"middle\" x=\"426.034102475277\" y=\"-133.067374973452\">12</text>\n",
       "\t<polygon points=\"490.344829104665,-211.413253997271 447.839436502163,-201.940573865686 471.637204094399,-280.882626336447 \" style=\"fill: rgb(119,236,158); fill-opacity: 1; stroke: rgb(0,0,0); stroke-width: 1\" />\n",
       "\t<circle cx=\"490.344829104665\" cy=\"-211.413253997271\" r=\"2\" style=\"fill: rgb(255,0,0)\" />\n",
       "\t<text font-family=\"Times-Roman\" font-size=\"10\" text-anchor=\"middle\" x=\"490.344829104665\" y=\"-216.413253997271\">2</text>\n",
       "\t<circle cx=\"447.839436502163\" cy=\"-201.940573865686\" r=\"2\" style=\"fill: rgb(255,0,0)\" />\n",
       "\t<text font-family=\"Times-Roman\" font-size=\"10\" text-anchor=\"middle\" x=\"447.839436502163\" y=\"-206.940573865686\">8</text>\n",
       "\t<circle cx=\"471.637204094399\" cy=\"-280.882626336447\" r=\"2\" style=\"fill: rgb(255,0,0)\" />\n",
       "\t<text font-family=\"Times-Roman\" font-size=\"10\" text-anchor=\"middle\" x=\"471.637204094399\" y=\"-285.882626336447\">14</text>\n",
       "\t<polygon points=\"304.386788297826,-233.362609894375 160.986654740871,-202.528568617136 323.033344751903,-157.139929896197 \" style=\"fill: rgb(119,236,158); fill-opacity: 1; stroke: rgb(0,0,0); stroke-width: 1\" />\n",
       "\t<circle cx=\"304.386788297826\" cy=\"-233.362609894375\" r=\"2\" style=\"fill: rgb(255,0,0)\" />\n",
       "\t<text font-family=\"Times-Roman\" font-size=\"10\" text-anchor=\"middle\" x=\"304.386788297826\" y=\"-238.362609894375\">3</text>\n",
       "\t<circle cx=\"160.986654740871\" cy=\"-202.528568617136\" r=\"2\" style=\"fill: rgb(255,0,0)\" />\n",
       "\t<text font-family=\"Times-Roman\" font-size=\"10\" text-anchor=\"middle\" x=\"160.986654740871\" y=\"-207.528568617136\">6</text>\n",
       "\t<circle cx=\"323.033344751903\" cy=\"-157.139929896197\" r=\"2\" style=\"fill: rgb(255,0,0)\" />\n",
       "\t<text font-family=\"Times-Roman\" font-size=\"10\" text-anchor=\"middle\" x=\"323.033344751903\" y=\"-162.139929896197\">13</text>\n",
       "\t<polygon points=\"304.386788297826,-233.362609894375 395.136497878627,-308.864050464778 323.033344751903,-157.139929896197 \" style=\"fill: rgb(119,236,158); fill-opacity: 1; stroke: rgb(0,0,0); stroke-width: 1\" />\n",
       "\t<circle cx=\"304.386788297826\" cy=\"-233.362609894375\" r=\"2\" style=\"fill: rgb(255,0,0)\" />\n",
       "\t<text font-family=\"Times-Roman\" font-size=\"10\" text-anchor=\"middle\" x=\"304.386788297826\" y=\"-238.362609894375\">3</text>\n",
       "\t<circle cx=\"395.136497878627\" cy=\"-308.864050464778\" r=\"2\" style=\"fill: rgb(255,0,0)\" />\n",
       "\t<text font-family=\"Times-Roman\" font-size=\"10\" text-anchor=\"middle\" x=\"395.136497878627\" y=\"-313.864050464778\">10</text>\n",
       "\t<circle cx=\"323.033344751903\" cy=\"-157.139929896197\" r=\"2\" style=\"fill: rgb(255,0,0)\" />\n",
       "\t<text font-family=\"Times-Roman\" font-size=\"10\" text-anchor=\"middle\" x=\"323.033344751903\" y=\"-162.139929896197\">13</text>\n",
       "\t<line stroke=\"rgb(0,0,0)\" stroke-width=\"1\" x1=\"439.72508733379\" x2=\"341.045402935369\" y1=\"-481.89373102782\" y2=\"-575.698021694089\" />\n",
       "\t<circle cx=\"341.045402935369\" cy=\"-575.698021694089\" r=\"2\" style=\"fill: rgb(255,0,0)\" />\n",
       "\t<text font-family=\"Times-Roman\" font-size=\"10\" text-anchor=\"middle\" x=\"341.045402935369\" y=\"-580.698021694089\">4</text>\n",
       "\t<circle cx=\"439.72508733379\" cy=\"-481.89373102782\" r=\"2\" style=\"fill: rgb(255,0,0)\" />\n",
       "\t<text font-family=\"Times-Roman\" font-size=\"10\" text-anchor=\"middle\" x=\"439.72508733379\" y=\"-486.89373102782\">5</text>\n",
       "\t<line stroke=\"rgb(0,0,0)\" stroke-width=\"1\" x1=\"395.136497878627\" x2=\"439.72508733379\" y1=\"-308.864050464778\" y2=\"-481.89373102782\" />\n",
       "\t<circle cx=\"439.72508733379\" cy=\"-481.89373102782\" r=\"2\" style=\"fill: rgb(255,0,0)\" />\n",
       "\t<text font-family=\"Times-Roman\" font-size=\"10\" text-anchor=\"middle\" x=\"439.72508733379\" y=\"-486.89373102782\">5</text>\n",
       "\t<circle cx=\"395.136497878627\" cy=\"-308.864050464778\" r=\"2\" style=\"fill: rgb(255,0,0)\" />\n",
       "\t<text font-family=\"Times-Roman\" font-size=\"10\" text-anchor=\"middle\" x=\"395.136497878627\" y=\"-313.864050464778\">10</text>\n",
       "\t<line stroke=\"rgb(0,0,0)\" stroke-width=\"1\" x1=\"556.5\" x2=\"439.72508733379\" y1=\"-489.236563219009\" y2=\"-481.89373102782\" />\n",
       "\t<circle cx=\"439.72508733379\" cy=\"-481.89373102782\" r=\"2\" style=\"fill: rgb(255,0,0)\" />\n",
       "\t<text font-family=\"Times-Roman\" font-size=\"10\" text-anchor=\"middle\" x=\"439.72508733379\" y=\"-486.89373102782\">5</text>\n",
       "\t<circle cx=\"556.5\" cy=\"-489.236563219009\" r=\"2\" style=\"fill: rgb(255,0,0)\" />\n",
       "\t<text font-family=\"Times-Roman\" font-size=\"10\" text-anchor=\"middle\" x=\"556.5\" y=\"-494.236563219009\">11</text>\n",
       "\t<polygon points=\"160.986654740871,-202.528568617136 72.7555700718257,-194.780582156889 38.5,-279.963601634928 \" style=\"fill: rgb(119,236,158); fill-opacity: 1; stroke: rgb(0,0,0); stroke-width: 1\" />\n",
       "\t<circle cx=\"160.986654740871\" cy=\"-202.528568617136\" r=\"2\" style=\"fill: rgb(255,0,0)\" />\n",
       "\t<text font-family=\"Times-Roman\" font-size=\"10\" text-anchor=\"middle\" x=\"160.986654740871\" y=\"-207.528568617136\">6</text>\n",
       "\t<circle cx=\"72.7555700718257\" cy=\"-194.780582156889\" r=\"2\" style=\"fill: rgb(255,0,0)\" />\n",
       "\t<text font-family=\"Times-Roman\" font-size=\"10\" text-anchor=\"middle\" x=\"72.7555700718257\" y=\"-199.780582156889\">7</text>\n",
       "\t<circle cx=\"38.5\" cy=\"-279.963601634928\" r=\"2\" style=\"fill: rgb(255,0,0)\" />\n",
       "\t<text font-family=\"Times-Roman\" font-size=\"10\" text-anchor=\"middle\" x=\"38.5\" y=\"-284.963601634928\">15</text>\n",
       "\t<polygon points=\"340.5044282265,-53.5 426.034102475277,-128.067374973452 323.033344751903,-157.139929896197 \" style=\"fill: rgb(119,236,158); fill-opacity: 1; stroke: rgb(0,0,0); stroke-width: 1\" />\n",
       "\t<circle cx=\"340.5044282265\" cy=\"-53.5\" r=\"2\" style=\"fill: rgb(255,0,0)\" />\n",
       "\t<text font-family=\"Times-Roman\" font-size=\"10\" text-anchor=\"middle\" x=\"340.5044282265\" y=\"-58.5\">9</text>\n",
       "\t<circle cx=\"426.034102475277\" cy=\"-128.067374973452\" r=\"2\" style=\"fill: rgb(255,0,0)\" />\n",
       "\t<text font-family=\"Times-Roman\" font-size=\"10\" text-anchor=\"middle\" x=\"426.034102475277\" y=\"-133.067374973452\">12</text>\n",
       "\t<circle cx=\"323.033344751903\" cy=\"-157.139929896197\" r=\"2\" style=\"fill: rgb(255,0,0)\" />\n",
       "\t<text font-family=\"Times-Roman\" font-size=\"10\" text-anchor=\"middle\" x=\"323.033344751903\" y=\"-162.139929896197\">13</text>\n",
       "\t<!--\n",
       "\tGenerated using the Perl SVG Module V2.84\n",
       "\tby Ronan Oger\n",
       "\tInfo: http://www.roitsystems.com/\n",
       "\t-->\n",
       "</svg>"
      ]
     },
     "metadata": {},
     "output_type": "display_data"
    }
   ],
   "source": [
    "Polymake.display_svg(vr)"
   ]
  },
  {
   "cell_type": "markdown",
   "metadata": {},
   "source": [
    "Finally we use another Polymake function to print the reduced homology of our complex. Each line corresponds to one dimension, starting with dimension $0$. The torsion coefficients are displayed in the curly brackets, which are empty if there is no torsion. The number after the curly brackets is the reduced Betti number."
   ]
  },
  {
   "cell_type": "code",
   "execution_count": 132,
   "metadata": {},
   "outputs": [
    {
     "data": {
      "text/plain": [
       "PropertyValue wrapping pm::Array<polymake::topaz::HomologyGroup<pm::Integer>>\n",
       "({} 1)\n",
       "({} 0)\n",
       "({} 0)\n"
      ]
     },
     "execution_count": 132,
     "metadata": {},
     "output_type": "execute_result"
    }
   ],
   "source": [
    "vr.HOMOLOGY"
   ]
  }
 ],
 "metadata": {
  "kernelspec": {
   "display_name": "Julia 1.4.0",
   "language": "julia",
   "name": "julia-1.4"
  },
  "language_info": {
   "file_extension": ".jl",
   "mimetype": "application/julia",
   "name": "julia",
   "version": "1.4.0"
  }
 },
 "nbformat": 4,
 "nbformat_minor": 4
}
